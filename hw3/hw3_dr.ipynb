{
 "cells": [
  {
   "cell_type": "code",
   "execution_count": 1,
   "metadata": {},
   "outputs": [],
   "source": [
    "import numpy as np\n",
    "import pandas as pd\n",
    "%matplotlib inline"
   ]
  },
  {
   "cell_type": "code",
   "execution_count": 4,
   "metadata": {},
   "outputs": [],
   "source": [
    "n=100\n",
    "M = np.diag(np.repeat(2,n),k=0) + np.diag(np.repeat(-1,n-1),k=1) + np.diag(np.repeat(-1,n-1),k=-1)\n",
    "b = np.zeros(n)\n",
    "b[0] = 1"
   ]
  },
  {
   "cell_type": "code",
   "execution_count": 5,
   "metadata": {},
   "outputs": [
    {
     "data": {
      "text/plain": [
       "array([[ 2, -1,  0, ...,  0,  0,  0],\n",
       "       [-1,  2, -1, ...,  0,  0,  0],\n",
       "       [ 0, -1,  2, ...,  0,  0,  0],\n",
       "       ...,\n",
       "       [ 0,  0,  0, ...,  2, -1,  0],\n",
       "       [ 0,  0,  0, ..., -1,  2, -1],\n",
       "       [ 0,  0,  0, ...,  0, -1,  2]])"
      ]
     },
     "execution_count": 5,
     "metadata": {},
     "output_type": "execute_result"
    }
   ],
   "source": [
    "M"
   ]
  },
  {
   "cell_type": "code",
   "execution_count": 6,
   "metadata": {},
   "outputs": [
    {
     "data": {
      "text/plain": [
       "array([1., 0., 0., 0., 0., 0., 0., 0., 0., 0., 0., 0., 0., 0., 0., 0., 0.,\n",
       "       0., 0., 0., 0., 0., 0., 0., 0., 0., 0., 0., 0., 0., 0., 0., 0., 0.,\n",
       "       0., 0., 0., 0., 0., 0., 0., 0., 0., 0., 0., 0., 0., 0., 0., 0., 0.,\n",
       "       0., 0., 0., 0., 0., 0., 0., 0., 0., 0., 0., 0., 0., 0., 0., 0., 0.,\n",
       "       0., 0., 0., 0., 0., 0., 0., 0., 0., 0., 0., 0., 0., 0., 0., 0., 0.,\n",
       "       0., 0., 0., 0., 0., 0., 0., 0., 0., 0., 0., 0., 0., 0., 0.])"
      ]
     },
     "execution_count": 6,
     "metadata": {},
     "output_type": "execute_result"
    }
   ],
   "source": [
    "b"
   ]
  },
  {
   "cell_type": "code",
   "execution_count": 7,
   "metadata": {},
   "outputs": [],
   "source": [
    "val,vec = np.linalg.eig(M)"
   ]
  },
  {
   "cell_type": "code",
   "execution_count": 8,
   "metadata": {},
   "outputs": [],
   "source": [
    "def f(x,m):\n",
    "    return 1/2*M.dot(x).dot(x) - b.dot(x) + 1/2*m*x.dot(x)\n",
    "def GD(x,m):\n",
    "    return M.dot(x) - b + m*x"
   ]
  },
  {
   "cell_type": "code",
   "execution_count": 40,
   "metadata": {},
   "outputs": [
    {
     "data": {
      "text/plain": [
       "-0.355555555555555"
      ]
     },
     "execution_count": 40,
     "metadata": {},
     "output_type": "execute_result"
    }
   ],
   "source": [
    "m=0.1\n",
    "x_star = lambda m: np.linalg.pinv(M + m/2*np.diag(np.ones(100))).dot(b)\n",
    "f_star = f(x_star(m),m)\n",
    "f_star"
   ]
  },
  {
   "cell_type": "code",
   "execution_count": 72,
   "metadata": {},
   "outputs": [],
   "source": [
    "#### Nesterov for strongly smooth directly:\n",
    "def AGD_ss(N,tol,m):\n",
    "    x0 = np.repeat(0,n)\n",
    "    L = 4 + m\n",
    "    m0 = 4\n",
    "    y0 = x0 - 1/L*GD(x0,m)\n",
    "    v0 = - 1/L*GD(x0,m)\n",
    "    value = [f(x0,m)]\n",
    "    x_old = x0\n",
    "    y_old = y0\n",
    "    v_old = v0\n",
    "    for i in np.arange(1,N+1):\n",
    "        a = np.arange(1,i+1/2,1/2)\n",
    "        A = a.sum()\n",
    "        \n",
    "        a_p = a[-1]*(m0 + m*(A-a[-1]))/(m0 + m*A)\n",
    "        print(a_p,a[-1])\n",
    "\n",
    "        x_new = (A-a[-1])/(A-a[-1]+a_p)*y_old + a_p/(A-a[-1]+a_p)*v_old\n",
    "        y_new = x_new - 1/L*GD(x_new,m)\n",
    "        v_new = (m0 + m*(A-a[-1]))/(m0 + m*A)*v_old + m*a[-1]/(m0 + m*A)*x_new - a[-1]/(m0+m*A)*GD(x_new,m)\n",
    "        \n",
    "        value.append(f(y_new,m))\n",
    "        x_old = x_new; y_old = y_new; v_old = v_new\n",
    "        #if (f(y_new,m) - f_star,m)**2 <= tol:\n",
    "        #    break\n",
    "    return y_new, value\n"
   ]
  },
  {
   "cell_type": "code",
   "execution_count": 73,
   "metadata": {},
   "outputs": [
    {
     "name": "stdout",
     "output_type": "stream",
     "text": [
      "0.9756097560975611 1.0\n",
      "1.9101123595505618 2.0\n",
      "2.8200000000000003 3.0\n",
      "3.7217391304347824 4.0\n",
      "4.626865671641791 5.0\n",
      "5.54140127388535 6.0\n",
      "6.467391304347826 7.0\n",
      "7.404651162790697 8.0\n",
      "8.352 9.0\n",
      "9.30795847750865 10.0\n",
      "10.271084337349397 11.0\n",
      "11.240105540897096 12.0\n",
      "12.213953488372091 13.0\n",
      "13.191752577319589 14.0\n",
      "14.17279411764706 15.0\n",
      "15.15650741350906 16.0\n",
      "16.142433234421365 17.0\n",
      "17.13020134228188 18.0\n",
      "18.11951219512195 19.0\n",
      "19.11012235817575 20.0\n",
      "20.10183299389002 21.0\n",
      "21.09448082319925 22.0\n",
      "22.08793103448276 23.0\n",
      "23.08207171314741 24.0\n",
      "24.076809453471196 25.0\n",
      "25.072065888812627 26.0\n",
      "26.06777493606138 27.0\n",
      "27.063880597014926 28.0\n",
      "28.060335195530726 29.0\n",
      "29.057097957045574 30.0\n",
      "30.054133858267715 31.0\n",
      "31.051412691060676 32.0\n",
      "32.04890829694323 33.0\n",
      "33.04659793814433 34.0\n",
      "34.044461778471145 35.0\n",
      "35.04248245289989 36.0\n",
      "36.04064470918009 37.0\n",
      "37.03893510815308 38.0\n",
      "38.0373417721519 39.0\n",
      "39.03585417294366 40.0\n",
      "40.034462952326244 41.0\n",
      "41.033159769799944 42.0\n",
      "42.031937172774875 43.0\n",
      "43.03078848560702 44.0\n",
      "44.029707714422614 45.0\n",
      "45.02868946522836 46.0\n",
      "46.02772887323943 47.0\n",
      "47.02682154171067 48.0\n",
      "48.02596348884382 49.0\n",
      "49.02515110157925 50.0\n",
      "50.02438109527382 51.0\n",
      "51.02365047842571 52.0\n",
      "52.022956521739125 53.0\n",
      "53.022296730930435 54.0\n",
      "54.02166882276844 55.0\n",
      "55.02107070391759 56.0\n",
      "56.02050045221585 57.0\n",
      "57.01995630007284 58.0\n",
      "58.01943661971831 59.0\n",
      "59.01893991006949 60.0\n",
      "60.018464785017144 61.0\n",
      "61.018009962958224 62.0\n",
      "62.01757425742575 63.0\n",
      "63.01715656868627 64.0\n",
      "64.01675587619269 65.0\n",
      "65.01637123179405 66.0\n",
      "66.01600175361683 67.0\n",
      "67.01564662054285 68.0\n",
      "68.01530506721821 69.0\n",
      "69.01497637953563 70.0\n",
      "70.01465989053948 71.0\n",
      "71.0143549767088 72.0\n",
      "72.0140610545791 73.0\n",
      "73.01377757766772 74.0\n",
      "74.01350403367239 75.0\n",
      "75.01323994191509 76.0\n",
      "76.01298485100715 77.0\n",
      "77.01273833671401 78.0\n",
      "78.0125 79.0\n",
      "79.01226946523651 80.0\n",
      "80.01204637855744 81.0\n",
      "81.01183040634874 82.0\n",
      "82.0116212338594 83.0\n",
      "83.01141856392294 84.0\n",
      "84.01122211577939 85.0\n",
      "85.01103162398877 86.0\n",
      "86.01084683742812 87.0\n",
      "87.01066751836474 88.0\n",
      "88.01049344159901 89.0\n",
      "89.01032439367096 90.0\n",
      "90.01016017212527 91.0\n",
      "91.01000058482951 92.0\n",
      "92.00984544934174 93.0\n",
      "93.00969459232279 94.0\n",
      "94.00954784899034 95.0\n",
      "95.00940506261084 96.0\n",
      "96.00926608402654 97.0\n",
      "97.00913077121486 98.0\n",
      "98.00899898887766 99.0\n",
      "99.00887060805788 100.0\n",
      "100.00874550578173 101.0\n",
      "101.00862356472437 102.0\n",
      "102.0085046728972 103.0\n",
      "103.0083887233555 104.0\n",
      "104.00827561392461 105.0\n",
      "105.00816524694353 106.0\n",
      "106.00805752902443 107.0\n",
      "107.00795237082714 108.0\n",
      "108.0078496868476 109.0\n",
      "109.00774939521915 110.0\n",
      "110.00765141752576 111.0\n",
      "111.00755567862653 112.0\n",
      "112.00746210649048 113.0\n",
      "113.00737063204126 114.0\n",
      "114.00728118901065 115.0\n",
      "115.00719371380085 116.0\n",
      "116.00710814535431 117.0\n",
      "117.0070244250312 118.0\n",
      "118.0069424964937 119.0\n",
      "119.00686230559674 120.0\n",
      "120.00678380028491 121.0\n",
      "121.00670693049484 122.0\n",
      "122.00663164806303 123.0\n",
      "123.00655790663869 124.0\n",
      "124.00648566160106 125.0\n",
      "125.00641486998153 126.0\n",
      "126.00634549038935 127.0\n",
      "127.00627748294163 128.0\n",
      "128.0062108091968 129.0\n",
      "129.0061454320915 130.0\n",
      "130.00608131588092 131.0\n",
      "131.00601842608174 132.0\n",
      "132.0059567294184 133.0\n",
      "133.00589619377163 134.0\n",
      "134.00583678813004 135.0\n",
      "135.0057784825436 136.0\n",
      "136.00572124807968 137.0\n",
      "137.0056650567811 138.0\n",
      "138.00560988162636 139.0\n",
      "139.00555569649154 140.0\n",
      "140.00550247611423 141.0\n",
      "141.0054501960591 142.0\n",
      "142.00539883268485 143.0\n",
      "143.00534836311306 144.0\n",
      "144.0052987651985 145.0\n",
      "145.00525001750006 146.0\n",
      "146.0052020992542 147.0\n",
      "147.00515499034861 148.0\n",
      "148.0051086712973 149.0\n",
      "149.0050631232174 150.0\n",
      "150.0050183278059 151.0\n",
      "151.0049742673184 152.0\n",
      "152.00493092454838 153.0\n",
      "153.0048882828071 154.0\n",
      "154.00484632590508 155.0\n",
      "155.0048050381336 156.0\n",
      "156.00476440424757 157.0\n",
      "157.00472440944884 158.0\n",
      "158.00468503937012 159.0\n",
      "159.0046462800599 160.0\n",
      "160.0046081179678 161.0\n",
      "161.00457053993057 162.0\n",
      "162.0045335331585 163.0\n",
      "163.00449708522257 164.0\n",
      "164.00446118404213 165.0\n",
      "165.00442581787306 166.0\n",
      "166.00439097529627 167.0\n",
      "167.00435664520683 168.0\n",
      "168.00432281680324 169.0\n",
      "169.0042894795776 170.0\n",
      "170.00425662330585 171.0\n",
      "171.00422423803832 172.0\n",
      "172.00419231409086 173.0\n",
      "173.00416084203601 174.0\n",
      "174.00412981269508 175.0\n",
      "175.0040992171299 176.0\n",
      "176.00406904663507 177.0\n",
      "177.00403929273088 178.0\n",
      "178.00400994715574 179.0\n",
      "179.00398100185984 180.0\n",
      "180.00395244899818 181.0\n",
      "181.00392428092437 182.0\n",
      "182.00389649018445 183.0\n",
      "183.00386906951087 184.0\n",
      "184.00384201181708 185.0\n",
      "185.0038153101919 186.0\n",
      "186.00378895789413 187.0\n",
      "187.00376294834757 188.0\n",
      "188.00373727513596 189.0\n",
      "189.0037119319985 190.0\n",
      "190.00368691282497 191.0\n",
      "191.0036622116515 192.0\n",
      "192.00363782265617 193.0\n",
      "193.0036137401549 194.0\n",
      "194.00358995859753 195.0\n",
      "195.00356647256407 196.0\n",
      "196.00354327676072 197.0\n",
      "197.00352036601643 198.0\n",
      "198.00349773527932 199.0\n",
      "199.00347537961358 200.0\n",
      "200.003453294196 201.0\n",
      "201.00343147431278 202.0\n",
      "202.0034099153567 203.0\n",
      "203.00338861282404 204.0\n",
      "204.00336756231178 205.0\n",
      "205.00334675951476 206.0\n",
      "206.0033262002233 207.0\n",
      "207.00330588032023 208.0\n",
      "208.00328579577868 209.0\n",
      "209.00326594265954 210.0\n",
      "210.0032463171092 211.0\n",
      "211.00322691535723 212.0\n",
      "212.00320773371416 213.0\n",
      "213.0031887685694 214.0\n",
      "214.00317001638922 215.0\n",
      "215.00315147371455 216.0\n",
      "216.00313313715944 217.0\n",
      "217.00311500340868 218.0\n",
      "218.0030970692164 219.0\n",
      "219.00307933140405 220.0\n",
      "220.0030617868588 221.0\n",
      "221.0030444325319 222.0\n",
      "222.00302726543705 223.0\n",
      "223.0030102826487 224.0\n",
      "224.0029934813006 225.0\n",
      "225.00297685858456 226.0\n",
      "226.00296041174875 227.0\n",
      "227.0029441380964 228.0\n",
      "228.00292803498434 229.0\n",
      "229.00291209982188 230.0\n",
      "230.0028963300695 231.0\n",
      "231.0028807232375 232.0\n",
      "232.00286527688493 233.0\n",
      "233.0028499886183 234.0\n",
      "234.00283485609043 235.0\n",
      "235.00281987699964 236.0\n",
      "236.00280504908832 237.0\n",
      "237.00279037014218 238.0\n",
      "238.00277583798885 239.0\n",
      "239.00276145049733 240.0\n",
      "240.0027472055768 241.0\n",
      "241.0027331011758 242.0\n",
      "242.0027191352812 243.0\n",
      "243.00270530591735 244.0\n",
      "244.00269161114528 245.0\n",
      "245.00267804906184 246.0\n",
      "246.00266461779896 247.0\n",
      "247.00265131552277 248.0\n",
      "248.00263814043274 249.0\n",
      "249.00262509076111 250.0\n",
      "250.00261216477216 251.0\n",
      "251.0025993607614 252.0\n",
      "252.00258667705495 253.0\n",
      "253.0025741120087 254.0\n",
      "254.00256166400786 255.0\n",
      "255.00254933146635 256.0\n",
      "256.00253711282596 257.0\n",
      "257.002525006556 258.0\n",
      "258.0025130111524 259.0\n",
      "259.0025011251374 260.0\n",
      "260.0024893470589 261.0\n",
      "261.0024776754899 262.0\n",
      "262.002466109028 263.0\n",
      "263.0024546462948 264.0\n",
      "264.0024432859355 265.0\n",
      "265.00243202661835 266.0\n",
      "266.0024208670342 267.0\n",
      "267.00240980589604 268.0\n",
      "268.0023988419384 269.0\n",
      "269.00238797391705 270.0\n",
      "270.0023772006086 271.0\n",
      "271.00236652080986 272.0\n",
      "272.0023559333378 273.0\n",
      "273.0023454370287 274.0\n",
      "274.002335030738 275.0\n",
      "275.00232471333993 276.0\n",
      "276.00231448372705 277.0\n",
      "277.0023043408101 278.0\n",
      "278.002294283517 279.0\n",
      "279.0022843107935 280.0\n",
      "280.00227442160195 281.0\n",
      "281.00226461492133 282.0\n",
      "282.0022548897471 283.0\n",
      "283.0022452450904 284.0\n",
      "284.00223567997836 285.0\n",
      "285.00222619345317 286.0\n",
      "286.0022167845721 287.0\n",
      "287.00220745240745 288.0\n",
      "288.00219819604564 289.0\n",
      "289.0021890145875 290.0\n",
      "290.0021799071477 291.0\n",
      "291.0021708728547 292.0\n",
      "292.00216191085025 293.0\n",
      "293.0021530202892 294.0\n",
      "294.0021442003394 295.0\n",
      "295.00213545018136 296.0\n",
      "296.002126769008 297.0\n",
      "297.0021181560244 298.0\n",
      "298.0021096104476 299.0\n",
      "299.00210113150644 300.0\n",
      "300.00209271844125 301.0\n",
      "301.00208437050367 302.0\n",
      "302.00207608695655 303.0\n",
      "303.0020678670734 304.0\n",
      "304.00205971013867 305.0\n",
      "305.00205161544733 306.0\n",
      "306.00204358230445 307.0\n",
      "307.00203561002553 308.0\n",
      "308.0020276979357 309.0\n",
      "309.00201984537017 310.0\n",
      "310.0020120516736 311.0\n",
      "311.0020043162001 312.0\n",
      "312.0019966383131 313.0\n",
      "313.0019890173849 314.0\n",
      "314.00198145279717 315.0\n",
      "315.00197394393996 316.0\n",
      "316.0019664902122 317.0\n",
      "317.00195909102126 318.0\n",
      "318.00195174578266 319.0\n",
      "319.0019444539203 320.0\n",
      "320.0019372148662 321.0\n",
      "321.00193002806 322.0\n",
      "322.0019228929494 323.0\n",
      "323.00191580898957 324.0\n",
      "324.0019087756433 325.0\n",
      "325.00190179238064 326.0\n",
      "326.001894858679 327.0\n",
      "327.00188797402296 328.0\n",
      "328.001881137904 329.0\n",
      "329.0018743498206 330.0\n",
      "330.0018676092779 331.0\n",
      "331.00186091578786 332.0\n",
      "332.001854268869 333.0\n",
      "333.0018476680461 334.0\n",
      "334.00184111285046 335.0\n",
      "335.00183460281954 336.0\n",
      "336.001828137497 337.0\n",
      "337.0018217164326 338.0\n",
      "338.0018153391818 339.0\n",
      "339.00180900530614 340.0\n",
      "340.0018027143728 341.0\n",
      "341.0017964659546 342.0\n",
      "342.00179025963007 343.0\n",
      "343.001784094983 344.0\n",
      "344.0017779716028 345.0\n",
      "345.0017718890839 346.0\n",
      "346.0017658470262 347.0\n",
      "347.00175984503477 348.0\n",
      "348.00175388271936 349.0\n",
      "349.001747959695 350.0\n",
      "350.0017420755818 351.0\n",
      "351.00173623000416 352.0\n",
      "352.00173042259166 353.0\n",
      "353.00172465297834 354.0\n",
      "354.0017189208029 355.0\n",
      "355.0017132257086 356.0\n",
      "356.00170756734315 357.0\n",
      "357.00170194535866 358.0\n",
      "358.0016963594113 359.0\n",
      "359.0016908091619 360.0\n",
      "360.0016852942754 361.0\n",
      "361.00167981442047 362.0\n",
      "362.00167436927046 363.0\n",
      "363.00166895850214 364.0\n",
      "364.0016635817965 365.0\n",
      "365.00165823883856 366.0\n",
      "366.0016529293169 367.0\n",
      "367.00164765292396 368.0\n",
      "368.0016424093559 369.0\n",
      "369.00163719831244 370.0\n",
      "370.0016320194972 371.0\n",
      "371.00162687261695 372.0\n",
      "372.0016217573823 373.0\n",
      "373.00161667350693 374.0\n",
      "374.0016116207082 375.0\n",
      "375.0016065987069 376.0\n",
      "376.00160160722686 377.0\n",
      "377.00159664599533 378.0\n",
      "378.0015917147425 379.0\n",
      "379.001586813202 380.0\n",
      "380.0015819411105 381.0\n",
      "381.0015770982077 382.0\n",
      "382.0015722842364 383.0\n",
      "383.00156749894205 384.0\n",
      "384.0015627420734 385.0\n",
      "385.0015580133822 386.0\n",
      "386.0015533126225 387.0\n",
      "387.0015486395517 388.0\n",
      "388.0015439939296 389.0\n",
      "389.001539375519 390.0\n",
      "390.00153478408527 391.0\n",
      "391.0015302193964 392.0\n",
      "392.00152568122314 393.0\n",
      "393.0015211693387 394.0\n",
      "394.0015166835187 395.0\n",
      "395.0015122235416 396.0\n",
      "396.0015077891882 397.0\n",
      "397.0015033802418 398.0\n",
      "398.0014989964877 399.0\n",
      "399.00149463771413 400.0\n",
      "400.0014903037115 401.0\n",
      "401.0014859942723 402.0\n",
      "402.0014817091915 403.0\n",
      "403.00147744826637 404.0\n",
      "404.00147321129623 405.0\n",
      "405.00146899808266 406.0\n",
      "406.00146480842955 407.0\n",
      "407.0014606421427 408.0\n",
      "408.0014564990301 409.0\n",
      "409.0014523789016 410.0\n",
      "410.00144828156954 411.0\n",
      "411.0014442068481 412.0\n",
      "412.0014401545532 413.0\n",
      "413.001436124503 414.0\n",
      "414.00143211651744 415.0\n",
      "415.00142813041856 416.0\n",
      "416.0014241660302 417.0\n",
      "417.00142022317794 418.0\n",
      "418.0014163016894 419.0\n",
      "419.0014124013937 420.0\n",
      "420.0014085221222 421.0\n",
      "421.0014046637078 422.0\n",
      "422.00140082598506 423.0\n",
      "423.0013970087904 424.0\n",
      "424.0013932119617 425.0\n",
      "425.0013894353389 426.0\n",
      "426.0013856787635 427.0\n",
      "427.0013819420784 428.0\n",
      "428.00137822512824 429.0\n",
      "429.00137452775925 430.0\n",
      "430.0013708498193 431.0\n",
      "431.0013671911579 432.0\n",
      "432.0013635516259 433.0\n",
      "433.0013599310757 434.0\n",
      "434.0013563293611 435.0\n",
      "435.00135274633766 436.0\n",
      "436.0013491818624 437.0\n",
      "437.00134563579337 438.0\n",
      "438.00134210799047 439.0\n",
      "439.00133859831476 440.0\n",
      "440.00133510662874 441.0\n",
      "441.0013316327965 442.0\n",
      "442.0013281766831 443.0\n",
      "443.0013247381553 444.0\n",
      "444.0013213170808 445.0\n",
      "445.00131791332893 446.0\n",
      "446.00131452677033 447.0\n",
      "447.00131115727663 448.0\n",
      "448.001307804721 449.0\n",
      "449.00130446897754 450.0\n",
      "450.00130114992186 451.0\n",
      "451.0012978474308 452.0\n",
      "452.00129456138217 453.0\n",
      "453.0012912916551 454.0\n",
      "454.00128803812976 455.0\n",
      "455.00128480068776 456.0\n",
      "456.00128157921165 457.0\n",
      "457.001278373585 458.0\n",
      "458.0012751836928 459.0\n",
      "459.00127200942086 460.0\n",
      "460.00126885065623 461.0\n",
      "461.001265707287 462.0\n",
      "462.0012625792024 463.0\n",
      "463.0012594662925 464.0\n",
      "464.0012563684485 465.0\n",
      "465.00125328556277 466.0\n",
      "466.00125021752865 467.0\n",
      "467.00124716424034 468.0\n",
      "468.00124412559313 469.0\n",
      "469.00124110148323 470.0\n",
      "470.00123809180786 471.0\n",
      "471.0012350964653 472.0\n",
      "472.0012321153545 473.0\n",
      "473.0012291483758 474.0\n",
      "474.00122619542987 475.0\n",
      "475.00122325641877 476.0\n",
      "476.0012203312453 477.0\n",
      "477.0012174198131 478.0\n",
      "478.0012145220268 479.0\n",
      "479.0012116377918 480.0\n",
      "480.0012087670144 481.0\n",
      "481.0012059096019 482.0\n",
      "482.00120306546216 483.0\n",
      "483.0012002345041 484.0\n",
      "484.0011974166373 485.0\n",
      "485.0011946117723 486.0\n",
      "486.0011918198204 487.0\n",
      "487.0011890406937 488.0\n",
      "488.00118627430504 489.0\n",
      "489.0011835205681 490.0\n",
      "490.0011807793972 491.0\n",
      "491.0011780507077 492.0\n",
      "492.0011753344155 493.0\n",
      "493.0011726304372 494.0\n",
      "494.0011699386903 495.0\n",
      "495.0011672590929 496.0\n",
      "496.00116459156396 497.0\n",
      "497.00116193602304 498.0\n",
      "498.0011592923904 499.0\n",
      "499.001156660587 500.0\n",
      "500.00115404053463 501.0\n",
      "501.00115143215567 502.0\n",
      "502.00114883537304 503.0\n",
      "503.0011462501106 504.0\n",
      "504.0011436762926 505.0\n",
      "505.0011411138441 506.0\n",
      "506.00113856269087 507.0\n",
      "507.00113602275917 508.0\n",
      "508.00113349397594 509.0\n",
      "509.0011309762687 510.0\n",
      "510.0011284695657 511.0\n",
      "511.00112597379587 512.0\n",
      "512.0011234888884 513.0\n",
      "513.0011210147736 514.0\n",
      "514.0011185513818 515.0\n",
      "515.0011160986443 516.0\n",
      "516.001113656493 517.0\n",
      "517.0011112248601 518.0\n",
      "518.0011088036787 519.0\n",
      "519.0011063928821 520.0\n",
      "520.0011039924045 521.0\n",
      "521.0011016021805 522.0\n",
      "522.0010992221451 523.0\n",
      "523.0010968522342 524.0\n",
      "524.0010944923838 525.0\n",
      "525.0010921425309 526.0\n",
      "526.0010898026127 527.0\n",
      "527.0010874725668 528.0\n",
      "528.0010851523318 529.0\n",
      "529.0010828418464 530.0\n",
      "530.0010805410499 531.0\n",
      "531.0010782498822 532.0\n",
      "532.0010759682835 533.0\n",
      "533.0010736961948 534.0\n",
      "534.0010714335572 535.0\n",
      "535.0010691803125 536.0\n",
      "536.0010669364029 537.0\n",
      "537.0010647017713 538.0\n",
      "538.0010624763607 539.0\n",
      "539.0010602601149 540.0\n",
      "540.0010580529777 541.0\n",
      "541.0010558548939 542.0\n",
      "542.0010536658084 543.0\n",
      "543.0010514856666 544.0\n",
      "544.0010493144142 545.0\n",
      "545.0010471519978 546.0\n",
      "546.001044998364 547.0\n",
      "547.0010428534599 548.0\n",
      "548.0010407172332 549.0\n",
      "549.0010385896315 550.0\n",
      "550.0010364706037 551.0\n",
      "551.0010343600983 552.0\n",
      "552.0010322580646 553.0\n",
      "553.0010301644521 554.0\n",
      "554.0010280792108 555.0\n",
      "555.001026002291 556.0\n",
      "556.001023933644 557.0\n",
      "557.0010218732203 558.0\n",
      "558.0010198209719 559.0\n",
      "559.0010177768504 560.0\n",
      "560.0010157408083 561.0\n",
      "561.0010137127982 562.0\n",
      "562.0010116927732 563.0\n",
      "563.0010096806866 564.0\n",
      "564.001007676492 565.0\n",
      "565.0010056801437 566.0\n",
      "566.0010036915963 567.0\n",
      "567.0010017108044 568.0\n",
      "568.0009997377232 569.0\n",
      "569.000997772308 570.0\n",
      "570.0009958145149 571.0\n",
      "571.0009938643001 572.0\n",
      "572.00099192162 573.0\n",
      "573.0009899864313 574.0\n",
      "574.0009880586913 575.0\n",
      "575.0009861383575 576.0\n",
      "576.0009842253876 577.0\n",
      "577.0009823197399 578.0\n",
      "578.0009804213726 579.0\n",
      "579.0009785302447 580.0\n",
      "580.0009766463149 581.0\n",
      "581.0009747695428 582.0\n",
      "582.0009728998883 583.0\n",
      "583.0009710373109 584.0\n",
      "584.0009691817712 585.0\n",
      "585.0009673332296 586.0\n",
      "586.0009654916469 587.0\n",
      "587.0009636569844 588.0\n",
      "588.0009618292033 589.0\n",
      "589.0009600082656 590.0\n",
      "590.000958194133 591.0\n",
      "591.0009563867678 592.0\n",
      "592.0009545861329 593.0\n",
      "593.0009527921908 594.0\n",
      "594.0009510049047 595.0\n",
      "595.0009492242377 596.0\n",
      "596.0009474501537 597.0\n",
      "597.0009456826167 598.0\n",
      "598.0009439215904 599.0\n",
      "599.0009421670397 600.0\n"
     ]
    },
    {
     "data": {
      "text/plain": [
       "601"
      ]
     },
     "execution_count": 73,
     "metadata": {},
     "output_type": "execute_result"
    }
   ],
   "source": [
    "x,value = AGD_ss(600,1,0.1)\n",
    "len(value)"
   ]
  },
  {
   "cell_type": "code",
   "execution_count": 43,
   "metadata": {},
   "outputs": [
    {
     "data": {
      "text/plain": [
       "<matplotlib.axes._subplots.AxesSubplot at 0x11b1acd10>"
      ]
     },
     "execution_count": 43,
     "metadata": {},
     "output_type": "execute_result"
    },
    {
     "data": {
      "image/png": "[encoded data removed]",
      "text/plain": [
       "<Figure size 432x288 with 1 Axes>"
      ]
     },
     "metadata": {
      "needs_background": "light"
     },
     "output_type": "display_data"
    }
   ],
   "source": [
    "pd.Series(value - f_star).plot.line(linewidth = 4)"
   ]
  },
  {
   "cell_type": "markdown",
   "metadata": {},
   "source": [
    "####  CG"
   ]
  },
  {
   "cell_type": "markdown",
   "metadata": {},
   "source": [
    "According to exact line search, we have:\n",
    "$$\n",
    "h_k = \\frac{<\\nabla f(x_k),p_k>}{<(M + \\frac{m}{2})p_k,p_k>}\n",
    "$$\n",
    "\\\n",
    "$$\n",
    "\\beta_{k}=\\frac{\\left\\|\\nabla f\\left(x_{k+1}\\right)\\right\\|^{2}}{\\left\\langle\\nabla f\\left(x_{k+1}\\right)-\\nabla f\\left(x_{k}\\right), p_{k}\\right\\rangle}\n",
    "$$\n",
    "\\\n",
    "$$\n",
    "p_{k+1}=\\nabla f\\left(x_{k+1}\\right)-\\beta_{k} p_{k}\n",
    "$$"
   ]
  },
  {
   "cell_type": "code",
   "execution_count": 44,
   "metadata": {},
   "outputs": [],
   "source": [
    "#### CG:\n",
    "def CG(N,tol,m):\n",
    "    x0 = np.repeat(0,n)\n",
    "    x_old = x0\n",
    "    p_old = GD(x0,m)\n",
    "    value = [f(x0,m)]\n",
    "    for i in range(N):\n",
    "        h = GD(x_old,m).dot(p_old)/ (M.dot(p_old) + m/2*p_old).dot(p_old)\n",
    "        x_new = x_old - h*p_old\n",
    "        beta = GD(x_new,m).dot(GD(x_new,m))/(GD(x_new,m) - GD(x_old,m)).dot(p_old)\n",
    "        p_new = GD(x_new,m) - beta*p_old\n",
    "        \n",
    "        value.append(f(x_new,m))\n",
    "        x_old = x_new\n",
    "        p_old = p_new\n",
    "        \n",
    "        #if (f(x_new,m) - f_star,m)**2 <= tol:\n",
    "        #    break\n",
    "    return x_new, value"
   ]
  },
  {
   "cell_type": "code",
   "execution_count": 45,
   "metadata": {},
   "outputs": [
    {
     "data": {
      "text/plain": [
       "601"
      ]
     },
     "execution_count": 45,
     "metadata": {},
     "output_type": "execute_result"
    }
   ],
   "source": [
    "x,value = CG(600,1,0.1)\n",
    "len(value)"
   ]
  },
  {
   "cell_type": "code",
   "execution_count": 46,
   "metadata": {},
   "outputs": [
    {
     "data": {
      "text/plain": [
       "<matplotlib.axes._subplots.AxesSubplot at 0x11b17ca90>"
      ]
     },
     "execution_count": 46,
     "metadata": {},
     "output_type": "execute_result"
    },
    {
     "data": {
      "image/png": "[encoded data removed]",
      "text/plain": [
       "<Figure size 432x288 with 1 Axes>"
      ]
     },
     "metadata": {
      "needs_background": "light"
     },
     "output_type": "display_data"
    }
   ],
   "source": [
    "pd.Series(value - f_star).plot.line(linewidth = 4)"
   ]
  },
  {
   "cell_type": "markdown",
   "metadata": {},
   "source": [
    "#### Heavy-Ball"
   ]
  },
  {
   "cell_type": "markdown",
   "metadata": {},
   "source": [
    "$$\n",
    "\\mathbf{x}_{k+1}=\\mathbf{x}_{k}-\\alpha_{1} \\nabla f\\left(\\mathbf{x}_{k}\\right)+\\alpha_{2}\\left(\\mathbf{x}_{k}-\\mathbf{x}_{k-1}\\right)\n",
    "$$\n",
    "\\\n",
    "$$\n",
    "\\alpha_{1}=\\frac{4}{(\\sqrt{L}+\\sqrt{m})^{2}} \\text { and } \\alpha_{2}=\\left(\\frac{\\sqrt{L}-\\sqrt{m}}{\\sqrt{L}+\\sqrt{m}}\\right)^{2}\n",
    "$$"
   ]
  },
  {
   "cell_type": "code",
   "execution_count": 47,
   "metadata": {},
   "outputs": [
    {
     "data": {
      "text/plain": [
       "5.480624847486569"
      ]
     },
     "execution_count": 47,
     "metadata": {},
     "output_type": "execute_result"
    }
   ],
   "source": [
    "m=0.1\n",
    "L = 4 + m\n",
    "(L**(1/2) + m**(1/2))**2"
   ]
  },
  {
   "cell_type": "code",
   "execution_count": 64,
   "metadata": {},
   "outputs": [],
   "source": [
    "#### Heavy-Ball:\n",
    "def HB(N,tol,m):\n",
    "    x0 = np.repeat(0,n)\n",
    "    L = 4 + m\n",
    "    alpha1 = 4/(L**(1/2) + m**(1/2))**2\n",
    "    alpha2 = (L**(1/2) - m**(1/2))**2/(L**(1/2) + m**(1/2))**2\n",
    "    value = [f(x0,m)]\n",
    "    x1 = x0 - alpha1*GD(x0,m)\n",
    "    value.append(f(x1,m))\n",
    "    x_old = x1\n",
    "    x_med = x1 - alpha1*GD(x1,m) + alpha2*(x1 - x0)\n",
    "    for i in range(N):\n",
    "        x_new = x_med - alpha1*GD(x_med,m) + alpha2*(x_med - x_old)        \n",
    "        value.append(f(x_new,m))\n",
    "        x_old = x_med\n",
    "        x_med = x_new\n",
    "        \n",
    "        #if (f(x_new,m) - f_star,m)**2 <= tol:\n",
    "        #    break\n",
    "    return x_new, value"
   ]
  },
  {
   "cell_type": "code",
   "execution_count": 67,
   "metadata": {},
   "outputs": [
    {
     "data": {
      "text/plain": [
       "602"
      ]
     },
     "execution_count": 67,
     "metadata": {},
     "output_type": "execute_result"
    }
   ],
   "source": [
    "x,value = HB(600,1,0.1)\n",
    "len(value)"
   ]
  },
  {
   "cell_type": "code",
   "execution_count": 71,
   "metadata": {},
   "outputs": [
    {
     "data": {
      "text/plain": [
       "<matplotlib.axes._subplots.AxesSubplot at 0x11ef7cd50>"
      ]
     },
     "execution_count": 71,
     "metadata": {},
     "output_type": "execute_result"
    },
    {
     "data": {
      "image/png": "[encoded data removed]",
      "text/plain": [
       "<Figure size 432x288 with 1 Axes>"
      ]
     },
     "metadata": {
      "needs_background": "light"
     },
     "output_type": "display_data"
    }
   ],
   "source": [
    "pd.Series(value).plot.line(linewidth = 4)"
   ]
  },
  {
   "cell_type": "code",
   "execution_count": 76,
   "metadata": {},
   "outputs": [
    {
     "data": {
      "text/plain": [
       "array([1, 1, 1])"
      ]
     },
     "execution_count": 76,
     "metadata": {},
     "output_type": "execute_result"
    }
   ],
   "source": [
    "a = np.array([1,1,1])\n",
    "a"
   ]
  },
  {
   "cell_type": "code",
   "execution_count": 77,
   "metadata": {},
   "outputs": [
    {
     "data": {
      "text/plain": [
       "3"
      ]
     },
     "execution_count": 77,
     "metadata": {},
     "output_type": "execute_result"
    }
   ],
   "source": [
    "a.dot(a)"
   ]
  },
  {
   "cell_type": "code",
   "execution_count": 46,
   "metadata": {},
   "outputs": [
    {
     "data": {
      "text/plain": [
       "array([[1, 0, 0],\n",
       "       [0, 2, 0],\n",
       "       [0, 0, 3]])"
      ]
     },
     "execution_count": 46,
     "metadata": {},
     "output_type": "execute_result"
    }
   ],
   "source": [
    "np.diag([1,2,3])"
   ]
  },
  {
   "cell_type": "code",
   "execution_count": null,
   "metadata": {},
   "outputs": [],
   "source": []
  },
  {
   "cell_type": "code",
   "execution_count": null,
   "metadata": {},
   "outputs": [],
   "source": []
  }
 ],
 "metadata": {
  "kernelspec": {
   "display_name": "Python 3",
   "language": "python",
   "name": "python3"
  },
  "language_info": {
   "codemirror_mode": {
    "name": "ipython",
    "version": 3
   },
   "file_extension": ".py",
   "mimetype": "text/x-python",
   "name": "python",
   "nbconvert_exporter": "python",
   "pygments_lexer": "ipython3",
   "version": "3.7.4"
  }
 },
 "nbformat": 4,
 "nbformat_minor": 4
}
