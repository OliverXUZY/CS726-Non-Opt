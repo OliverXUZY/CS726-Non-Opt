{
 "cells": [
  {
   "cell_type": "code",
   "execution_count": 1,
   "metadata": {},
   "outputs": [],
   "source": [
    "import numpy as np\n",
    "import pandas as pd\n",
    "%matplotlib inline"
   ]
  },
  {
   "cell_type": "code",
   "execution_count": 2,
   "metadata": {},
   "outputs": [],
   "source": [
    "n=200\n",
    "M = np.diag(np.repeat(2,n),k=0) + np.diag(np.repeat(-1,n-1),k=1) + np.diag(np.repeat(-1,n-1),k=-1)\n",
    "M[n-1,0] = -1.0\n",
    "M[0,n-1] = -1.0\n",
    "b = np.repeat(-1/n,n)\n",
    "b[0] = 1 - 1/n"
   ]
  },
  {
   "cell_type": "code",
   "execution_count": null,
   "metadata": {},
   "outputs": [],
   "source": [
    "np.dot(np.linalg.inv(M),M)"
   ]
  },
  {
   "cell_type": "code",
   "execution_count": null,
   "metadata": {},
   "outputs": [],
   "source": [
    "M.dot(np.linalg.pinv(M)).dot(M)"
   ]
  },
  {
   "cell_type": "code",
   "execution_count": 4,
   "metadata": {},
   "outputs": [
    {
     "data": {
      "text/plain": [
       "-8.333124999999967"
      ]
     },
     "execution_count": 4,
     "metadata": {},
     "output_type": "execute_result"
    }
   ],
   "source": [
    "f = lambda x:1/2*M.dot(x).dot(x) - b.dot(x)\n",
    "#f = lambda x:np.dot(np.dot(M, x), x)/2 - np.dot(b,x)\n",
    "x_star = np.linalg.pinv(M).dot(b)\n",
    "f_star = f(x_star)\n",
    "f_star"
   ]
  },
  {
   "cell_type": "code",
   "execution_count": 14,
   "metadata": {},
   "outputs": [
    {
     "data": {
      "text/plain": [
       "array([1., 2., 3.])"
      ]
     },
     "execution_count": 14,
     "metadata": {},
     "output_type": "execute_result"
    }
   ],
   "source": [
    "np.array([1,2,3]).astype('float')"
   ]
  },
  {
   "cell_type": "markdown",
   "metadata": {},
   "source": [
    "#### SD with constant stepsize 1/L"
   ]
  },
  {
   "cell_type": "code",
   "execution_count": 5,
   "metadata": {},
   "outputs": [],
   "source": [
    "def SD(N,tol):\n",
    "    x0 = np.repeat(0,n)\n",
    "    x_old = x0\n",
    "    alpha = 1/4\n",
    "    value = [1/2*M.dot(x0).dot(x0) - b.dot(x0)]\n",
    "    for i in range(N):\n",
    "        x_new = x_old - alpha*(M.dot(x_old) - b)\n",
    "        value.append(f(x_new))\n",
    "        x_old = x_new\n",
    "        if (f(x_new) - f_star)**2 <= tol:\n",
    "            break\n",
    "    return x_new, value"
   ]
  },
  {
   "cell_type": "code",
   "execution_count": 6,
   "metadata": {},
   "outputs": [
    {
     "data": {
      "text/plain": [
       "601"
      ]
     },
     "execution_count": 6,
     "metadata": {},
     "output_type": "execute_result"
    }
   ],
   "source": [
    "x,value = SD(600,1)\n",
    "len(value)"
   ]
  },
  {
   "cell_type": "code",
   "execution_count": 7,
   "metadata": {},
   "outputs": [
    {
     "data": {
      "text/plain": [
       "<matplotlib.axes._subplots.AxesSubplot at 0x11f602ad0>"
      ]
     },
     "execution_count": 7,
     "metadata": {},
     "output_type": "execute_result"
    },
    {
     "data": {
      "image/png": "[encoded data removed]",
      "text/plain": [
       "<Figure size 432x288 with 1 Axes>"
      ]
     },
     "metadata": {
      "needs_background": "light"
     },
     "output_type": "display_data"
    }
   ],
   "source": [
    "pd.Series(value - f_star).plot.line(linewidth = 4)"
   ]
  },
  {
   "cell_type": "markdown",
   "metadata": {},
   "source": [
    "#### SD with constant exact line search"
   ]
  },
  {
   "cell_type": "code",
   "execution_count": 8,
   "metadata": {},
   "outputs": [],
   "source": [
    "def SD_ls(N,tol):\n",
    "    x0 = np.repeat(0,n)\n",
    "    x_old = x0\n",
    "    alpha = np.arange(0.05,1,step = 0.05)\n",
    "    value = [1/2*M.dot(x0).dot(x0) - b.dot(x0)]\n",
    "    for i in range(N):\n",
    "        x_test = np.outer(np.ones(alpha.shape),x_old) - np.outer(alpha,M.dot(x_old) - b)\n",
    "        test_vl = np.array(list(map(f,list(x_test))))\n",
    "        index = np.argmin(test_vl)\n",
    "        stepsize = alpha[index]\n",
    "        x_new = x_test[index]\n",
    "        value.append(test_vl[index])\n",
    "        x_old = x_new\n",
    "        if (f(x_new) - f_star)**2 <= tol:\n",
    "            break\n",
    "    return x_new, value"
   ]
  },
  {
   "cell_type": "code",
   "execution_count": 9,
   "metadata": {},
   "outputs": [
    {
     "data": {
      "text/plain": [
       "1354"
      ]
     },
     "execution_count": 9,
     "metadata": {},
     "output_type": "execute_result"
    }
   ],
   "source": [
    "x,value = SD_ls(2000,1)\n",
    "len(value)"
   ]
  },
  {
   "cell_type": "code",
   "execution_count": 10,
   "metadata": {},
   "outputs": [
    {
     "data": {
      "text/plain": [
       "<matplotlib.axes._subplots.AxesSubplot at 0x121a5b090>"
      ]
     },
     "execution_count": 10,
     "metadata": {},
     "output_type": "execute_result"
    },
    {
     "data": {
      "image/png": "[encoded data removed]",
      "text/plain": [
       "<Figure size 432x288 with 1 Axes>"
      ]
     },
     "metadata": {
      "needs_background": "light"
     },
     "output_type": "display_data"
    }
   ],
   "source": [
    "pd.Series(value - f_star).plot.line(linewidth = 4)"
   ]
  },
  {
   "cell_type": "code",
   "execution_count": 11,
   "metadata": {},
   "outputs": [],
   "source": [
    "## correct one, according to notes\n",
    "def SD_ls(N,tol):\n",
    "    x0 = np.repeat(0,n)\n",
    "    x_old = x0\n",
    "    value = [1/2*M.dot(x0).dot(x0) - b.dot(x0)]\n",
    "    for i in range(N):\n",
    "        GD = M.dot(x_old) - b\n",
    "        alpha = GD.dot(-GD)/M.dot(GD).dot(GD)\n",
    "        x_new = x_old - alpha*(M.dot(x_old) - b)\n",
    "        value.append(f(x_new))\n",
    "        x_old = x_new\n",
    "        if (f(x_new) - f_star)**2 <= tol:\n",
    "            break\n",
    "    return x_new, value"
   ]
  },
  {
   "cell_type": "code",
   "execution_count": 12,
   "metadata": {},
   "outputs": [
    {
     "name": "stderr",
     "output_type": "stream",
     "text": [
      "/Users/zyxu/opt/anaconda3/lib/python3.7/site-packages/ipykernel_launcher.py:12: RuntimeWarning: overflow encountered in double_scalars\n",
      "  if sys.path[0] == '':\n"
     ]
    },
    {
     "data": {
      "text/plain": [
       "1354"
      ]
     },
     "execution_count": 12,
     "metadata": {},
     "output_type": "execute_result"
    }
   ],
   "source": [
    "x,value2 = SD_ls(2000,1)\n",
    "len(value)"
   ]
  },
  {
   "cell_type": "code",
   "execution_count": null,
   "metadata": {},
   "outputs": [],
   "source": [
    "pd.Series(value2 - f_star).plot.line(linewidth = 4)"
   ]
  },
  {
   "cell_type": "code",
   "execution_count": null,
   "metadata": {},
   "outputs": [],
   "source": [
    "df = pd.DataFrame({\"SD:exact\":value, \"SD:exact2\": value2})\n",
    "df.plot.line(linewidth = 4)"
   ]
  },
  {
   "cell_type": "markdown",
   "metadata": {},
   "source": [
    "#### lagged SD with constant exact line search"
   ]
  },
  {
   "cell_type": "code",
   "execution_count": null,
   "metadata": {},
   "outputs": [],
   "source": [
    "## correct one, according to notes\n",
    "def lSD_ls(N,tol):\n",
    "    x0 = np.repeat(0,n)\n",
    "    x_old = x0\n",
    "    stepsize = np.repeat(0,N).astype(float)\n",
    "    value = [1/2*M.dot(x0).dot(x0) - b.dot(x0)]\n",
    "    for i in range(N):\n",
    "        GD = M.dot(x_old) - b\n",
    "        alpha = GD.dot(-GD)/M.dot(GD).dot(GD)\n",
    "        stepsize[i] = alpha\n",
    "        if i == 0:\n",
    "            x_new = x_old - stepsize[i]*GD\n",
    "        else:\n",
    "            x_new = x_old - stepsize[i-1]*GD\n",
    "            \n",
    "        x_new = x_old - alpha*(M.dot(x_old) - b)\n",
    "        value.append(f(x_new))\n",
    "        x_old = x_new\n",
    "        if (f(x_new) - f_star)**2 <= tol:\n",
    "            break\n",
    "    return x_new, value"
   ]
  },
  {
   "cell_type": "code",
   "execution_count": null,
   "metadata": {},
   "outputs": [],
   "source": [
    "x,value2, stepsize = lSD_ls(2000,1)\n",
    "len(value2)"
   ]
  },
  {
   "cell_type": "code",
   "execution_count": null,
   "metadata": {},
   "outputs": [],
   "source": [
    "pd.Series(value2 - f_star).plot.line(linewidth = 4)"
   ]
  },
  {
   "cell_type": "code",
   "execution_count": null,
   "metadata": {},
   "outputs": [],
   "source": [
    "df = pd.DataFrame({\"lSD:exact\":value, \"lSD:exact2\": value2})\n",
    "df.plot.line(linewidth = 4)"
   ]
  },
  {
   "cell_type": "code",
   "execution_count": null,
   "metadata": {},
   "outputs": [],
   "source": []
  },
  {
   "cell_type": "code",
   "execution_count": null,
   "metadata": {},
   "outputs": [],
   "source": []
  },
  {
   "cell_type": "code",
   "execution_count": null,
   "metadata": {},
   "outputs": [],
   "source": [
    "def lSD_ls(N,tol):\n",
    "    x0 = np.repeat(0,n)\n",
    "    x_old = x0\n",
    "    alpha = np.arange(0.05,1,step = 0.05)\n",
    "    value = [1/2*M.dot(x0).dot(x0) - b.dot(x0)]\n",
    "    stepsize = np.repeat(0,N).astype(float)\n",
    "    for i in range(N):\n",
    "        GD = M.dot(x_old) - b\n",
    "        x_test = np.outer(np.ones(alpha.shape), x_old) - np.outer(alpha, GD)\n",
    "        test_vl = np.array(list(map(f,list(x_test))))\n",
    "        index = np.argmin(test_vl)\n",
    "        inte = alpha[index]\n",
    "        stepsize[i] =  inte\n",
    "        #print(inte)\n",
    "        #print(stepsize[i])\n",
    "        if i == 0:\n",
    "            x_new = x_old - stepsize[i]*GD\n",
    "        else:\n",
    "            x_new = x_old - stepsize[i-1]*GD\n",
    "        value.append(f(x_new))\n",
    "        x_old = x_new\n",
    "        if (f(x_new) - f_star)**2 <= tol:\n",
    "            break\n",
    "    return x_new, value, stepsize"
   ]
  },
  {
   "cell_type": "code",
   "execution_count": null,
   "metadata": {},
   "outputs": [],
   "source": [
    "x,value, stepsize = lSD_ls(2000,1)\n",
    "len(value)"
   ]
  },
  {
   "cell_type": "code",
   "execution_count": null,
   "metadata": {},
   "outputs": [],
   "source": [
    "pd.Series(value - f_star).plot.line(linewidth = 4)"
   ]
  },
  {
   "cell_type": "markdown",
   "metadata": {},
   "source": [
    "#### Nesterov:"
   ]
  },
  {
   "cell_type": "code",
   "execution_count": null,
   "metadata": {},
   "outputs": [],
   "source": [
    "def AGD(N,tol):\n",
    "    x0 = np.repeat(0,n)\n",
    "    alpha = 1/4\n",
    "    y0 = x0 - alpha*(M.dot(x0) - b)\n",
    "    v0 = y0\n",
    "    value = [1/2*M.dot(x0).dot(x0) - b.dot(x0)]\n",
    "    x_old = x0\n",
    "    y_old = y0\n",
    "    v_old = v0\n",
    "    for i in np.arange(1,N+1):\n",
    "        a = np.arange(1,i+1/2,1/2)\n",
    "        A = a.sum()\n",
    "        \n",
    "        x_new = (A-a[-1])/A*y_old + a[-1]/A*v_old\n",
    "        y_new = x_new - alpha*(M.dot(x_new) - b)\n",
    "        v_new = v_old - a[-1]*alpha*(M.dot(x_new) - b)\n",
    "        \n",
    "        value.append(f(y_new))\n",
    "        x_old = x_new; y_old = y_new; v_old = v_new\n",
    "        if (f(y_new) - f_star)**2 <= tol:\n",
    "            break\n",
    "    return y_new, value"
   ]
  },
  {
   "cell_type": "code",
   "execution_count": null,
   "metadata": {},
   "outputs": [],
   "source": [
    "x,value = AGD(2000,1)\n",
    "len(value)"
   ]
  },
  {
   "cell_type": "code",
   "execution_count": null,
   "metadata": {},
   "outputs": [],
   "source": [
    "pd.Series(value - f_star).plot.line(linewidth = 4)"
   ]
  },
  {
   "cell_type": "code",
   "execution_count": null,
   "metadata": {},
   "outputs": [],
   "source": []
  },
  {
   "cell_type": "code",
   "execution_count": null,
   "metadata": {},
   "outputs": [],
   "source": []
  },
  {
   "cell_type": "code",
   "execution_count": null,
   "metadata": {},
   "outputs": [],
   "source": []
  },
  {
   "cell_type": "code",
   "execution_count": null,
   "metadata": {},
   "outputs": [],
   "source": []
  },
  {
   "cell_type": "code",
   "execution_count": null,
   "metadata": {},
   "outputs": [],
   "source": [
    "for i in range(3):\n",
    "    a[i] = a[1]+10\n",
    "a"
   ]
  },
  {
   "cell_type": "code",
   "execution_count": null,
   "metadata": {},
   "outputs": [],
   "source": [
    "np.arange(start = 1,stop = 9.5,step = 1/2)"
   ]
  },
  {
   "cell_type": "code",
   "execution_count": null,
   "metadata": {},
   "outputs": [],
   "source": [
    "a = np.arange(1,9)\n",
    "a"
   ]
  },
  {
   "cell_type": "code",
   "execution_count": null,
   "metadata": {},
   "outputs": [],
   "source": [
    "a[-1]"
   ]
  },
  {
   "cell_type": "code",
   "execution_count": null,
   "metadata": {},
   "outputs": [],
   "source": []
  },
  {
   "cell_type": "code",
   "execution_count": null,
   "metadata": {},
   "outputs": [],
   "source": []
  },
  {
   "cell_type": "code",
   "execution_count": null,
   "metadata": {},
   "outputs": [],
   "source": []
  },
  {
   "cell_type": "markdown",
   "metadata": {},
   "source": [
    "#### 1"
   ]
  },
  {
   "cell_type": "code",
   "execution_count": null,
   "metadata": {},
   "outputs": [],
   "source": [
    "log(value)"
   ]
  },
  {
   "cell_type": "code",
   "execution_count": null,
   "metadata": {},
   "outputs": [],
   "source": [
    "a = np.array([2,4,5,1])\n",
    "a"
   ]
  },
  {
   "cell_type": "code",
   "execution_count": null,
   "metadata": {},
   "outputs": [],
   "source": [
    "np.log(a)"
   ]
  },
  {
   "cell_type": "code",
   "execution_count": null,
   "metadata": {},
   "outputs": [],
   "source": [
    "a = [2,3,6,2,4,5,3,45,2]\n",
    "a"
   ]
  },
  {
   "cell_type": "code",
   "execution_count": null,
   "metadata": {},
   "outputs": [],
   "source": [
    "a[-1] = np.max(a)\n",
    "a"
   ]
  },
  {
   "cell_type": "code",
   "execution_count": null,
   "metadata": {},
   "outputs": [],
   "source": []
  }
 ],
 "metadata": {
  "kernelspec": {
   "display_name": "Python 3",
   "language": "python",
   "name": "python3"
  },
  "language_info": {
   "codemirror_mode": {
    "name": "ipython",
    "version": 3
   },
   "file_extension": ".py",
   "mimetype": "text/x-python",
   "name": "python",
   "nbconvert_exporter": "python",
   "pygments_lexer": "ipython3",
   "version": "3.7.4"
  }
 },
 "nbformat": 4,
 "nbformat_minor": 4
}
