{
 "cells": [
  {
   "cell_type": "code",
   "execution_count": 1,
   "metadata": {},
   "outputs": [],
   "source": [
    "import numpy as np\n",
    "import pandas as pd\n",
    "%matplotlib inline"
   ]
  },
  {
   "cell_type": "code",
   "execution_count": 19,
   "metadata": {},
   "outputs": [],
   "source": [
    "n=200\n",
    "M = np.diag(np.repeat(2,n),k=0) + np.diag(np.repeat(-1,n-1),k=1) + np.diag(np.repeat(-1,n-1),k=-1)\n",
    "M[n-1,0] = -1.0\n",
    "M[0,n-1] = -1.0\n",
    "b = np.repeat(-1/n,n)\n",
    "b[0] = 1 - 1/n"
   ]
  },
  {
   "cell_type": "code",
   "execution_count": 20,
   "metadata": {},
   "outputs": [
    {
     "data": {
      "text/plain": [
       "(array([4.00000000e+00, 3.99901312e+00, 3.99605346e+00, 3.99112393e+00,\n",
       "        3.98422940e+00, 3.97537668e+00, 3.96457450e+00, 3.95183352e+00,\n",
       "        3.93716632e+00, 3.92058737e+00, 3.90211303e+00, 3.85955297e+00,\n",
       "        3.80965410e+00, 3.78201305e+00, 3.75261336e+00, 3.72148405e+00,\n",
       "        3.88176154e+00, 3.83550925e+00, 3.88176154e+00, 3.83550925e+00,\n",
       "        3.27484798e+00, 3.58031002e+00, 3.61803399e+00, 3.68865585e+00,\n",
       "        3.65416115e+00, 3.99901312e+00, 3.99605346e+00, 3.99112393e+00,\n",
       "        3.98422940e+00, 3.97537668e+00, 3.96457450e+00, 3.95183352e+00,\n",
       "        3.93716632e+00, 3.92058737e+00, 3.90211303e+00, 3.85955297e+00,\n",
       "        0.00000000e+00, 3.45793725e+00, 3.50022214e+00, 3.54102649e+00,\n",
       "        3.75261336e+00, 3.78201305e+00, 3.80965410e+00, 3.32262373e+00,\n",
       "        3.41421356e+00, 3.72148405e+00, 3.36909421e+00, 3.68865585e+00,\n",
       "        3.12416676e+00, 3.17557050e+00, 3.07165359e+00, 3.22581411e+00,\n",
       "        3.65416115e+00, 3.61803399e+00, 3.58031002e+00, 3.36909421e+00,\n",
       "        2.96350735e+00, 3.54102649e+00, 3.50022214e+00, 3.45793725e+00,\n",
       "        3.32262373e+00, 3.41421356e+00, 2.90798100e+00, 3.27484798e+00,\n",
       "        2.43628648e+00, 2.79429578e+00, 3.01808283e+00, 3.12416676e+00,\n",
       "        2.67747584e+00, 2.73624911e+00, 3.07165359e+00, 3.17557050e+00,\n",
       "        3.22581411e+00, 2.96350735e+00, 2.49737977e+00, 2.55798221e+00,\n",
       "        2.61803399e+00, 2.85155858e+00, 2.06282152e+00, 2.00000000e+00,\n",
       "        2.12558104e+00, 2.25066647e+00, 2.90798100e+00, 2.55798221e+00,\n",
       "        1.93717848e+00, 3.01808283e+00, 2.31286893e+00, 2.79429578e+00,\n",
       "        2.73624911e+00, 2.85155858e+00, 2.67747584e+00, 2.49737977e+00,\n",
       "        2.61803399e+00, 1.87441896e+00, 2.43628648e+00, 2.12558104e+00,\n",
       "        1.56371352e+00, 1.68713107e+00, 1.74933353e+00, 2.06282152e+00,\n",
       "        2.00000000e+00, 1.93717848e+00, 2.25066647e+00, 2.18821663e+00,\n",
       "        2.31286893e+00, 2.37476263e+00, 1.87441896e+00, 1.50262023e+00,\n",
       "        1.74933353e+00, 1.68713107e+00, 1.81178337e+00, 2.46233188e-02,\n",
       "        9.86879269e-04, 9.86879269e-04, 3.94654314e-03, 3.94654314e-03,\n",
       "        1.57705974e-02, 1.57705974e-02, 8.87607079e-03, 8.87607079e-03,\n",
       "        1.38196601e+00, 1.32252416e+00, 7.94126286e-02, 1.26375089e+00,\n",
       "        1.56371352e+00, 1.50262023e+00, 1.40447028e-01, 1.64490749e-01,\n",
       "        4.81664761e-02, 2.46233188e-02, 9.78869674e-02, 9.78869674e-02,\n",
       "        1.62523737e+00, 1.38196601e+00, 1.32252416e+00, 1.44201779e+00,\n",
       "        1.26375089e+00, 6.77376269e-01, 2.78515946e-01, 2.47386640e-01,\n",
       "        1.90345895e-01, 4.81664761e-02, 7.94126286e-02, 1.40447028e-01,\n",
       "        1.18238462e-01, 1.64490749e-01, 1.14844142e+00, 1.03649265e+00,\n",
       "        9.81917168e-01, 3.11344149e-01, 5.85786438e-01, 5.42062745e-01,\n",
       "        7.25152021e-01, 1.14844142e+00, 1.09201900e+00, 9.81917168e-01,\n",
       "        1.90345895e-01, 4.19689975e-01, 5.85786438e-01, 5.42062745e-01,\n",
       "        3.11344149e-01, 1.20570422e+00, 1.03649265e+00, 6.28336777e-02,\n",
       "        8.75833244e-01, 7.74185893e-01, 8.24429495e-01, 7.25152021e-01,\n",
       "        2.47386640e-01, 2.78515946e-01, 4.58973514e-01, 3.45838851e-01,\n",
       "        6.77376269e-01, 4.19689975e-01, 1.09201900e+00, 9.28346410e-01,\n",
       "        2.17986952e-01, 4.58973514e-01, 3.54254985e-02, 8.75833244e-01,\n",
       "        8.24429495e-01, 6.30905788e-01, 3.81966011e-01, 3.45838851e-01,\n",
       "        2.17986952e-01, 1.20570422e+00, 6.30905788e-01, 3.54254985e-02,\n",
       "        2.37476263e+00, 1.44201779e+00, 1.62523737e+00, 6.28336777e-02,\n",
       "        7.74185893e-01, 9.28346410e-01, 3.81966011e-01, 4.99777861e-01,\n",
       "        4.99777861e-01, 2.18821663e+00, 1.81178337e+00, 1.18238462e-01]),\n",
       " array([[ 7.07106781e-02, -1.00000000e-01, -1.00000000e-01, ...,\n",
       "          4.86855375e-05, -6.21550572e-04, -5.35122187e-04],\n",
       "        [-7.07106781e-02,  9.99506560e-02,  9.98026728e-02, ...,\n",
       "         -9.95607664e-02, -9.96127665e-02, -3.43767932e-02],\n",
       "        [ 7.07106781e-02, -9.98026728e-02, -9.92114701e-02, ...,\n",
       "          1.86903061e-02, -1.81272283e-02, -6.41538050e-02],\n",
       "        ...,\n",
       "        [-7.07106781e-02,  9.95561965e-02,  9.82287251e-02, ...,\n",
       "         -9.60157744e-02, -9.58541065e-02,  8.58005709e-02],\n",
       "        [ 7.07106781e-02, -9.98026728e-02, -9.92114701e-02, ...,\n",
       "         -1.87859524e-02,  1.93483107e-02,  6.33291676e-02],\n",
       "        [-7.07106781e-02,  9.99506560e-02,  9.98026728e-02, ...,\n",
       "          9.95516029e-02,  9.94957803e-02,  3.33698208e-02]]))"
      ]
     },
     "execution_count": 20,
     "metadata": {},
     "output_type": "execute_result"
    }
   ],
   "source": [
    "np.linalg.eig(M)"
   ]
  },
  {
   "cell_type": "code",
   "execution_count": 21,
   "metadata": {},
   "outputs": [
    {
     "data": {
      "text/plain": [
       "array([[-1. ,  0. , -0.5, ..., -0.5,  0. ,  1. ],\n",
       "       [-1. ,  1.5, -1. , ...,  1. , -1. ,  0. ],\n",
       "       [-1.5,  0. ,  1. , ...,  0.5, -1.5,  1. ],\n",
       "       ...,\n",
       "       [-2. ,  0. , -0.5, ...,  0.5,  0. ,  1. ],\n",
       "       [-2. ,  0. , -0.5, ..., -0.5,  1. ,  1. ],\n",
       "       [-2. ,  0. , -0.5, ..., -0.5,  0. ,  2. ]])"
      ]
     },
     "execution_count": 21,
     "metadata": {},
     "output_type": "execute_result"
    }
   ],
   "source": [
    "np.dot(np.linalg.inv(M),M)"
   ]
  },
  {
   "cell_type": "code",
   "execution_count": 22,
   "metadata": {},
   "outputs": [
    {
     "data": {
      "text/plain": [
       "array([[ 2.00000000e+00, -1.00000000e+00, -3.55271368e-15, ...,\n",
       "         3.55271368e-15, -7.10542736e-15, -1.00000000e+00],\n",
       "       [-1.00000000e+00,  2.00000000e+00, -1.00000000e+00, ...,\n",
       "         5.32907052e-15, -3.55271368e-15,  1.77635684e-15],\n",
       "       [-3.55271368e-15, -1.00000000e+00,  2.00000000e+00, ...,\n",
       "        -3.55271368e-15,  1.77635684e-15,  0.00000000e+00],\n",
       "       ...,\n",
       "       [ 1.77635684e-15, -8.88178420e-15,  8.88178420e-15, ...,\n",
       "         2.00000000e+00, -1.00000000e+00,  0.00000000e+00],\n",
       "       [ 3.55271368e-15,  7.10542736e-15, -1.24344979e-14, ...,\n",
       "        -1.00000000e+00,  2.00000000e+00, -1.00000000e+00],\n",
       "       [-1.00000000e+00, -1.06581410e-14,  1.42108547e-14, ...,\n",
       "        -1.42108547e-14, -1.00000000e+00,  2.00000000e+00]])"
      ]
     },
     "execution_count": 22,
     "metadata": {},
     "output_type": "execute_result"
    }
   ],
   "source": [
    "M.dot(np.linalg.pinv(M)).dot(M)"
   ]
  },
  {
   "cell_type": "code",
   "execution_count": 23,
   "metadata": {},
   "outputs": [
    {
     "data": {
      "text/plain": [
       "-8.333124999999967"
      ]
     },
     "execution_count": 23,
     "metadata": {},
     "output_type": "execute_result"
    }
   ],
   "source": [
    "f = lambda x:1/2*M.dot(x).dot(x) - b.dot(x)\n",
    "#f = lambda x:np.dot(np.dot(M, x), x)/2 - np.dot(b,x)\n",
    "x_star = np.linalg.pinv(M).dot(b)\n",
    "f_star = f(x_star)\n",
    "f_star"
   ]
  },
  {
   "cell_type": "code",
   "execution_count": 24,
   "metadata": {},
   "outputs": [
    {
     "data": {
      "text/plain": [
       "array([1., 2., 3.])"
      ]
     },
     "execution_count": 24,
     "metadata": {},
     "output_type": "execute_result"
    }
   ],
   "source": [
    "np.array([1,2,3]).astype('float')"
   ]
  },
  {
   "cell_type": "markdown",
   "metadata": {},
   "source": [
    "#### SD with constant stepsize 1/L"
   ]
  },
  {
   "cell_type": "code",
   "execution_count": 25,
   "metadata": {},
   "outputs": [],
   "source": [
    "def SD(N,tol):\n",
    "    x0 = np.repeat(0,n)\n",
    "    x_old = x0\n",
    "    alpha = 1/4\n",
    "    value = [1/2*M.dot(x0).dot(x0) - b.dot(x0)]\n",
    "    for i in range(N):\n",
    "        x_new = x_old - alpha*(M.dot(x_old) - b)\n",
    "        value.append(f(x_new))\n",
    "        x_old = x_new\n",
    "        if (f(x_new) - f_star)**2 <= tol:\n",
    "            break\n",
    "    return x_new, value"
   ]
  },
  {
   "cell_type": "code",
   "execution_count": 26,
   "metadata": {},
   "outputs": [
    {
     "data": {
      "text/plain": [
       "601"
      ]
     },
     "execution_count": 26,
     "metadata": {},
     "output_type": "execute_result"
    }
   ],
   "source": [
    "x,value = SD(600,1)\n",
    "len(value)"
   ]
  },
  {
   "cell_type": "code",
   "execution_count": 27,
   "metadata": {},
   "outputs": [
    {
     "data": {
      "text/plain": [
       "<matplotlib.axes._subplots.AxesSubplot at 0x11d243150>"
      ]
     },
     "execution_count": 27,
     "metadata": {},
     "output_type": "execute_result"
    },
    {
     "data": {
      "image/png": "[encoded data removed]",
      "text/plain": [
       "<Figure size 432x288 with 1 Axes>"
      ]
     },
     "metadata": {
      "needs_background": "light"
     },
     "output_type": "display_data"
    }
   ],
   "source": [
    "pd.Series(value - f_star).plot.line(linewidth = 4)"
   ]
  },
  {
   "cell_type": "markdown",
   "metadata": {},
   "source": [
    "#### SD with constant exact line search"
   ]
  },
  {
   "cell_type": "code",
   "execution_count": 28,
   "metadata": {},
   "outputs": [],
   "source": [
    "def SD_ls(N,tol):\n",
    "    x0 = np.repeat(0,n)\n",
    "    x_old = x0\n",
    "    alpha = np.arange(0.05,1,step = 0.05)\n",
    "    value = [1/2*M.dot(x0).dot(x0) - b.dot(x0)]\n",
    "    for i in range(N):\n",
    "        x_test = np.outer(np.ones(alpha.shape),x_old) - np.outer(alpha,M.dot(x_old) - b)\n",
    "        test_vl = np.array(list(map(f,list(x_test))))\n",
    "        index = np.argmin(test_vl)\n",
    "        stepsize = alpha[index]\n",
    "        x_new = x_test[index]\n",
    "        value.append(test_vl[index])\n",
    "        x_old = x_new\n",
    "        if (f(x_new) - f_star)**2 <= tol:\n",
    "            break\n",
    "    return x_new, value"
   ]
  },
  {
   "cell_type": "code",
   "execution_count": 29,
   "metadata": {},
   "outputs": [
    {
     "data": {
      "text/plain": [
       "1354"
      ]
     },
     "execution_count": 29,
     "metadata": {},
     "output_type": "execute_result"
    }
   ],
   "source": [
    "x,value = SD_ls(2000,1)\n",
    "len(value)"
   ]
  },
  {
   "cell_type": "code",
   "execution_count": 30,
   "metadata": {},
   "outputs": [
    {
     "data": {
      "text/plain": [
       "<matplotlib.axes._subplots.AxesSubplot at 0x1241218d0>"
      ]
     },
     "execution_count": 30,
     "metadata": {},
     "output_type": "execute_result"
    },
    {
     "data": {
      "image/png": "[encoded data removed]",
      "text/plain": [
       "<Figure size 432x288 with 1 Axes>"
      ]
     },
     "metadata": {
      "needs_background": "light"
     },
     "output_type": "display_data"
    }
   ],
   "source": [
    "pd.Series(value - f_star).plot.line(linewidth = 4)"
   ]
  },
  {
   "cell_type": "code",
   "execution_count": 63,
   "metadata": {},
   "outputs": [],
   "source": [
    "## correct one, according to notes\n",
    "def SD_ls(N,tol):\n",
    "    x0 = np.repeat(0,n)\n",
    "    x_old = x0\n",
    "    value = [1/2*M.dot(x0).dot(x0) - b.dot(x0)]\n",
    "    for i in range(N):\n",
    "        GD = M.dot(x_old) - b\n",
    "        alpha = GD.dot(GD)/M.dot(GD).dot(GD)\n",
    "        print(alpha)\n",
    "        x_new = x_old - alpha*(M.dot(x_old) - b)\n",
    "        value.append(f(x_new))\n",
    "        x_old = x_new\n",
    "        if (f(x_new) - f_star)**2 <= tol:\n",
    "            break\n",
    "    return x_new, value"
   ]
  },
  {
   "cell_type": "code",
   "execution_count": 64,
   "metadata": {},
   "outputs": [
    {
     "name": "stdout",
     "output_type": "stream",
     "text": [
      "0.4975000000000001\n",
      "0.49997449304935565\n",
      "0.49832467036325206\n",
      "0.5003075353817328\n",
      "0.49851366310761813\n",
      "0.5004344911269961\n",
      "0.49860530125903213\n",
      "0.5005055008703881\n",
      "0.49866167409299444\n",
      "0.5005522629586603\n",
      "0.49870074862446373\n",
      "0.500585997251582\n",
      "0.49872985519913876\n",
      "0.5006117952424288\n",
      "0.49875260826762874\n",
      "0.5006323408363659\n",
      "0.4987710208114473\n",
      "0.5006491992939827\n",
      "0.49878631379932453\n",
      "0.5006633526976013\n"
     ]
    },
    {
     "data": {
      "text/plain": [
       "1354"
      ]
     },
     "execution_count": 64,
     "metadata": {},
     "output_type": "execute_result"
    }
   ],
   "source": [
    "x,value2 = SD_ls(20,1)\n",
    "len(value)"
   ]
  },
  {
   "cell_type": "code",
   "execution_count": 65,
   "metadata": {},
   "outputs": [
    {
     "data": {
      "text/plain": [
       "<matplotlib.axes._subplots.AxesSubplot at 0x124500dd0>"
      ]
     },
     "execution_count": 65,
     "metadata": {},
     "output_type": "execute_result"
    },
    {
     "data": {
      "image/png": "[encoded data removed]",
      "text/plain": [
       "<Figure size 432x288 with 1 Axes>"
      ]
     },
     "metadata": {
      "needs_background": "light"
     },
     "output_type": "display_data"
    }
   ],
   "source": [
    "pd.Series(value2 - f_star).plot.line(linewidth = 4)"
   ]
  },
  {
   "cell_type": "code",
   "execution_count": 37,
   "metadata": {},
   "outputs": [],
   "source": [
    "#df = pd.DataFrame({\"SD:exact\":value, \"SD:exact2\": value2})\n",
    "#df.plot.line(linewidth = 4)"
   ]
  },
  {
   "cell_type": "markdown",
   "metadata": {},
   "source": [
    "#### lagged SD with constant exact line search"
   ]
  },
  {
   "cell_type": "code",
   "execution_count": 75,
   "metadata": {},
   "outputs": [],
   "source": [
    "## correct one, according to notes\n",
    "def lSD_ls(N,tol):\n",
    "    x0 = np.repeat(0,n)\n",
    "    x_old = x0\n",
    "    stepsize = np.repeat(0,N).astype(float)\n",
    "    value = [1/2*M.dot(x0).dot(x0) - b.dot(x0)]\n",
    "    for i in range(N):\n",
    "        GD = M.dot(x_old) - b\n",
    "        alpha = GD.dot(GD)/M.dot(GD).dot(GD)\n",
    "        stepsize[i] = alpha\n",
    "        if i == 0:\n",
    "            x_new = x_old - stepsize[i]*GD\n",
    "        else:\n",
    "            x_new = x_old - stepsize[i-1]*GD\n",
    "            \n",
    "        value.append(f(x_new))\n",
    "        x_old = x_new\n",
    "        if (f(x_new) - f_star)**2 <= tol:\n",
    "            break\n",
    "    return x_new, value, stepsize"
   ]
  },
  {
   "cell_type": "code",
   "execution_count": 76,
   "metadata": {},
   "outputs": [
    {
     "data": {
      "text/plain": [
       "array([0.4975    , 0.49997449, 0.50331487, ..., 0.        , 0.        ,\n",
       "       0.        ])"
      ]
     },
     "execution_count": 76,
     "metadata": {},
     "output_type": "execute_result"
    }
   ],
   "source": [
    "x,value2, stepsize = lSD_ls(2000,1)\n",
    "len(value2)\n",
    "stepsize"
   ]
  },
  {
   "cell_type": "code",
   "execution_count": 77,
   "metadata": {},
   "outputs": [
    {
     "data": {
      "text/plain": [
       "<matplotlib.axes._subplots.AxesSubplot at 0x12471c610>"
      ]
     },
     "execution_count": 77,
     "metadata": {},
     "output_type": "execute_result"
    },
    {
     "data": {
      "image/png": "[encoded data removed]",
      "text/plain": [
       "<Figure size 432x288 with 1 Axes>"
      ]
     },
     "metadata": {
      "needs_background": "light"
     },
     "output_type": "display_data"
    }
   ],
   "source": [
    "pd.Series(value2 - f_star).plot.line(linewidth = 4)"
   ]
  },
  {
   "cell_type": "code",
   "execution_count": 70,
   "metadata": {},
   "outputs": [],
   "source": [
    "#df = pd.DataFrame({\"lSD:exact\":value, \"lSD:exact2\": value2})\n",
    "#df.plot.line(linewidth = 4)"
   ]
  },
  {
   "cell_type": "code",
   "execution_count": null,
   "metadata": {},
   "outputs": [],
   "source": []
  },
  {
   "cell_type": "code",
   "execution_count": null,
   "metadata": {},
   "outputs": [],
   "source": []
  },
  {
   "cell_type": "code",
   "execution_count": null,
   "metadata": {},
   "outputs": [],
   "source": [
    "def lSD_ls(N,tol):\n",
    "    x0 = np.repeat(0,n)\n",
    "    x_old = x0\n",
    "    alpha = np.arange(0.05,1,step = 0.05)\n",
    "    value = [1/2*M.dot(x0).dot(x0) - b.dot(x0)]\n",
    "    stepsize = np.repeat(0,N).astype(float)\n",
    "    for i in range(N):\n",
    "        GD = M.dot(x_old) - b\n",
    "        x_test = np.outer(np.ones(alpha.shape), x_old) - np.outer(alpha, GD)\n",
    "        test_vl = np.array(list(map(f,list(x_test))))\n",
    "        index = np.argmin(test_vl)\n",
    "        inte = alpha[index]\n",
    "        stepsize[i] =  inte\n",
    "        #print(inte)\n",
    "        #print(stepsize[i])\n",
    "        if i == 0:\n",
    "            x_new = x_old - stepsize[i]*GD\n",
    "        else:\n",
    "            x_new = x_old - stepsize[i-1]*GD\n",
    "        value.append(f(x_new))\n",
    "        x_old = x_new\n",
    "        if (f(x_new) - f_star)**2 <= tol:\n",
    "            break\n",
    "    return x_new, value, stepsize"
   ]
  },
  {
   "cell_type": "code",
   "execution_count": null,
   "metadata": {},
   "outputs": [],
   "source": [
    "x,value, stepsize = lSD_ls(2000,1)\n",
    "len(value)"
   ]
  },
  {
   "cell_type": "code",
   "execution_count": null,
   "metadata": {},
   "outputs": [],
   "source": [
    "pd.Series(value - f_star).plot.line(linewidth = 4)"
   ]
  },
  {
   "cell_type": "markdown",
   "metadata": {},
   "source": [
    "#### Nesterov:"
   ]
  },
  {
   "cell_type": "code",
   "execution_count": null,
   "metadata": {},
   "outputs": [],
   "source": [
    "def AGD(N,tol):\n",
    "    x0 = np.repeat(0,n)\n",
    "    alpha = 1/4\n",
    "    y0 = x0 - alpha*(M.dot(x0) - b)\n",
    "    v0 = y0\n",
    "    value = [1/2*M.dot(x0).dot(x0) - b.dot(x0)]\n",
    "    x_old = x0\n",
    "    y_old = y0\n",
    "    v_old = v0\n",
    "    for i in np.arange(1,N+1):\n",
    "        a = np.arange(1,i+1/2,1/2)\n",
    "        A = a.sum()\n",
    "        \n",
    "        x_new = (A-a[-1])/A*y_old + a[-1]/A*v_old\n",
    "        y_new = x_new - alpha*(M.dot(x_new) - b)\n",
    "        v_new = v_old - a[-1]*alpha*(M.dot(x_new) - b)\n",
    "        \n",
    "        value.append(f(y_new))\n",
    "        x_old = x_new; y_old = y_new; v_old = v_new\n",
    "        if (f(y_new) - f_star)**2 <= tol:\n",
    "            break\n",
    "    return y_new, value"
   ]
  },
  {
   "cell_type": "code",
   "execution_count": null,
   "metadata": {},
   "outputs": [],
   "source": [
    "x,value = AGD(2000,1)\n",
    "len(value)"
   ]
  },
  {
   "cell_type": "code",
   "execution_count": null,
   "metadata": {},
   "outputs": [],
   "source": [
    "pd.Series(value - f_star).plot.line(linewidth = 4)"
   ]
  },
  {
   "cell_type": "code",
   "execution_count": null,
   "metadata": {},
   "outputs": [],
   "source": []
  },
  {
   "cell_type": "code",
   "execution_count": null,
   "metadata": {},
   "outputs": [],
   "source": []
  },
  {
   "cell_type": "code",
   "execution_count": null,
   "metadata": {},
   "outputs": [],
   "source": []
  },
  {
   "cell_type": "code",
   "execution_count": null,
   "metadata": {},
   "outputs": [],
   "source": []
  },
  {
   "cell_type": "code",
   "execution_count": null,
   "metadata": {},
   "outputs": [],
   "source": [
    "for i in range(3):\n",
    "    a[i] = a[1]+10\n",
    "a"
   ]
  },
  {
   "cell_type": "code",
   "execution_count": null,
   "metadata": {},
   "outputs": [],
   "source": [
    "np.arange(start = 1,stop = 9.5,step = 1/2)"
   ]
  },
  {
   "cell_type": "code",
   "execution_count": null,
   "metadata": {},
   "outputs": [],
   "source": [
    "a = np.arange(1,9)\n",
    "a"
   ]
  },
  {
   "cell_type": "code",
   "execution_count": null,
   "metadata": {},
   "outputs": [],
   "source": [
    "a[-1]"
   ]
  },
  {
   "cell_type": "code",
   "execution_count": null,
   "metadata": {},
   "outputs": [],
   "source": []
  },
  {
   "cell_type": "code",
   "execution_count": null,
   "metadata": {},
   "outputs": [],
   "source": []
  },
  {
   "cell_type": "code",
   "execution_count": null,
   "metadata": {},
   "outputs": [],
   "source": []
  },
  {
   "cell_type": "markdown",
   "metadata": {},
   "source": [
    "#### 1"
   ]
  },
  {
   "cell_type": "code",
   "execution_count": null,
   "metadata": {},
   "outputs": [],
   "source": [
    "log(value)"
   ]
  },
  {
   "cell_type": "code",
   "execution_count": null,
   "metadata": {},
   "outputs": [],
   "source": [
    "a = np.array([2,4,5,1])\n",
    "a"
   ]
  },
  {
   "cell_type": "code",
   "execution_count": null,
   "metadata": {},
   "outputs": [],
   "source": [
    "np.log(a)"
   ]
  },
  {
   "cell_type": "code",
   "execution_count": null,
   "metadata": {},
   "outputs": [],
   "source": [
    "a = [2,3,6,2,4,5,3,45,2]\n",
    "a"
   ]
  },
  {
   "cell_type": "code",
   "execution_count": null,
   "metadata": {},
   "outputs": [],
   "source": [
    "a[-1] = np.max(a)\n",
    "a"
   ]
  },
  {
   "cell_type": "code",
   "execution_count": null,
   "metadata": {},
   "outputs": [],
   "source": []
  }
 ],
 "metadata": {
  "kernelspec": {
   "display_name": "Python 3",
   "language": "python",
   "name": "python3"
  },
  "language_info": {
   "codemirror_mode": {
    "name": "ipython",
    "version": 3
   },
   "file_extension": ".py",
   "mimetype": "text/x-python",
   "name": "python",
   "nbconvert_exporter": "python",
   "pygments_lexer": "ipython3",
   "version": "3.7.4"
  }
 },
 "nbformat": 4,
 "nbformat_minor": 4
}
